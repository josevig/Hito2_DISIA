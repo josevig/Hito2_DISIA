{
 "cells": [
  {
   "cell_type": "markdown",
   "metadata": {},
   "source": [
    "# PRICING DINÁMICO DE HABITACIONES DE HOTEL\n",
    "\n",
    "*Cristian Rubio Barato*\n",
    "\n",
    "*Francisco Martínez Esteso*\n",
    "\n",
    "*José Vicente García López*\n",
    "\n",
    "*Víctor Ortega Gómez*\n"
   ]
  },
  {
   "cell_type": "markdown",
   "metadata": {},
   "source": [
    "## ÍNDICE\n",
    "\n",
    "1. [ANÁLISIS EXPLORATORIO DE DATOS](#1-análisis-exploratorio-de-datos)  \n",
    "   1.1 [Tipos de Variables y Distribución](#11-tipos-de-variables-y-distribución)  \n",
    "   1.2 [Análisis Univariado](#12-análisis-univariado)  \n",
    "   1.3 [Análisis Multivariado](#13-análisis-multivariado)  \n",
    "   1.4 [Correlación de Variables Continuas](#14-correlación-de-variables-continuas)  \n",
    "   1.5 [Importancia de Variables Continuas](#15-importancia-de-variables-continuas)  \n",
    "\n",
    "2. [PREPROCESAMIENTO](#2-preprocesamiento)  \n",
    "   2.1 [Limpieza de los datos](#21-limpieza-de-los-datos)  \n",
    "   2.2 [Pipeline de Datos](#22-pipeline-de-datos)"
   ]
  },
  {
   "cell_type": "markdown",
   "metadata": {},
   "source": [
    "## 1. ANÁLISIS EXPLORATORIO DE DATOS"
   ]
  },
  {
   "cell_type": "markdown",
   "metadata": {},
   "source": [
    "### 1.1 Tipos de Variables y Distribución"
   ]
  },
  {
   "cell_type": "code",
   "execution_count": null,
   "metadata": {},
   "outputs": [],
   "source": []
  },
  {
   "cell_type": "markdown",
   "metadata": {},
   "source": [
    "### 1.2 Análisis Univariado"
   ]
  },
  {
   "cell_type": "code",
   "execution_count": null,
   "metadata": {},
   "outputs": [],
   "source": []
  },
  {
   "cell_type": "markdown",
   "metadata": {},
   "source": [
    "### 1.3 Análisis Multivariado"
   ]
  },
  {
   "cell_type": "code",
   "execution_count": null,
   "metadata": {},
   "outputs": [],
   "source": []
  },
  {
   "cell_type": "markdown",
   "metadata": {},
   "source": [
    "### 1.4 Correlación de Variables Continuas"
   ]
  },
  {
   "cell_type": "code",
   "execution_count": null,
   "metadata": {},
   "outputs": [],
   "source": []
  },
  {
   "cell_type": "markdown",
   "metadata": {},
   "source": [
    "### 1.5 Importancia de Vriables Continuas"
   ]
  },
  {
   "cell_type": "code",
   "execution_count": null,
   "metadata": {},
   "outputs": [],
   "source": []
  },
  {
   "cell_type": "markdown",
   "metadata": {},
   "source": [
    "## 2. PREPROCESAMIENTO"
   ]
  },
  {
   "cell_type": "markdown",
   "metadata": {},
   "source": [
    "### 2.1 Limpieza de los datos"
   ]
  },
  {
   "cell_type": "code",
   "execution_count": null,
   "metadata": {},
   "outputs": [],
   "source": []
  },
  {
   "cell_type": "markdown",
   "metadata": {},
   "source": [
    "### 2.2 Pipeline de Datos"
   ]
  },
  {
   "cell_type": "code",
   "execution_count": null,
   "metadata": {},
   "outputs": [],
   "source": []
  }
 ],
 "metadata": {
  "language_info": {
   "name": "python"
  }
 },
 "nbformat": 4,
 "nbformat_minor": 2
}
